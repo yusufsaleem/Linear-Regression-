{
 "cells": [
  {
   "cell_type": "code",
   "execution_count": 56,
   "metadata": {},
   "outputs": [
    {
     "name": "stdout",
     "output_type": "stream",
     "text": [
      "      mpg  cylinders  displacement  horsepower  weight  acceleration  \\\n",
      "0    18.0          8         307.0       130.0  3504.0          12.0   \n",
      "1    15.0          8         350.0       165.0  3693.0          11.5   \n",
      "2    18.0          8         318.0       150.0  3436.0          11.0   \n",
      "3    16.0          8         304.0       150.0  3433.0          12.0   \n",
      "4    17.0          8         302.0       140.0  3449.0          10.5   \n",
      "5    15.0          8         429.0       198.0  4341.0          10.0   \n",
      "6    14.0          8         454.0       220.0  4354.0           9.0   \n",
      "7    14.0          8         440.0       215.0  4312.0           8.5   \n",
      "8    14.0          8         455.0       225.0  4425.0          10.0   \n",
      "9    15.0          8         390.0       190.0  3850.0           8.5   \n",
      "10   15.0          8         383.0       170.0  3563.0          10.0   \n",
      "11   14.0          8         340.0       160.0  3609.0           8.0   \n",
      "12   15.0          8         400.0       150.0  3761.0           9.5   \n",
      "13   14.0          8         455.0       225.0  3086.0          10.0   \n",
      "14   24.0          4         113.0        95.0  2372.0          15.0   \n",
      "15   22.0          6         198.0        95.0  2833.0          15.5   \n",
      "16   18.0          6         199.0        97.0  2774.0          15.5   \n",
      "17   21.0          6         200.0        85.0  2587.0          16.0   \n",
      "18   27.0          4          97.0        88.0  2130.0          14.5   \n",
      "19   26.0          4          97.0        46.0  1835.0          20.5   \n",
      "20   25.0          4         110.0        87.0  2672.0          17.5   \n",
      "21   24.0          4         107.0        90.0  2430.0          14.5   \n",
      "22   25.0          4         104.0        95.0  2375.0          17.5   \n",
      "23   26.0          4         121.0       113.0  2234.0          12.5   \n",
      "24   21.0          6         199.0        90.0  2648.0          15.0   \n",
      "25   10.0          8         360.0       215.0  4615.0          14.0   \n",
      "26   10.0          8         307.0       200.0  4376.0          15.0   \n",
      "27   11.0          8         318.0       210.0  4382.0          13.5   \n",
      "28    9.0          8         304.0       193.0  4732.0          18.5   \n",
      "29   27.0          4          97.0        88.0  2130.0          14.5   \n",
      "..    ...        ...           ...         ...     ...           ...   \n",
      "362  28.0          4         112.0        88.0  2605.0          19.6   \n",
      "363  27.0          4         112.0        88.0  2640.0          18.6   \n",
      "364  34.0          4         112.0        88.0  2395.0          18.0   \n",
      "365  31.0          4         112.0        85.0  2575.0          16.2   \n",
      "366  29.0          4         135.0        84.0  2525.0          16.0   \n",
      "367  27.0          4         151.0        90.0  2735.0          18.0   \n",
      "368  24.0          4         140.0        92.0  2865.0          16.4   \n",
      "369  36.0          4         105.0        74.0  1980.0          15.3   \n",
      "370  37.0          4          91.0        68.0  2025.0          18.2   \n",
      "371  31.0          4          91.0        68.0  1970.0          17.6   \n",
      "372  38.0          4         105.0        63.0  2125.0          14.7   \n",
      "373  36.0          4          98.0        70.0  2125.0          17.3   \n",
      "374  36.0          4         120.0        88.0  2160.0          14.5   \n",
      "375  36.0          4         107.0        75.0  2205.0          14.5   \n",
      "376  34.0          4         108.0        70.0  2245.0          16.9   \n",
      "377  38.0          4          91.0        67.0  1965.0          15.0   \n",
      "378  32.0          4          91.0        67.0  1965.0          15.7   \n",
      "379  38.0          4          91.0        67.0  1995.0          16.2   \n",
      "380  25.0          6         181.0       110.0  2945.0          16.4   \n",
      "381  38.0          6         262.0        85.0  3015.0          17.0   \n",
      "382  26.0          4         156.0        92.0  2585.0          14.5   \n",
      "383  22.0          6         232.0       112.0  2835.0          14.7   \n",
      "384  32.0          4         144.0        96.0  2665.0          13.9   \n",
      "385  36.0          4         135.0        84.0  2370.0          13.0   \n",
      "386  27.0          4         151.0        90.0  2950.0          17.3   \n",
      "387  27.0          4         140.0        86.0  2790.0          15.6   \n",
      "388  44.0          4          97.0        52.0  2130.0          24.6   \n",
      "389  32.0          4         135.0        84.0  2295.0          11.6   \n",
      "390  28.0          4         120.0        79.0  2625.0          18.6   \n",
      "391  31.0          4         119.0        82.0  2720.0          19.4   \n",
      "\n",
      "     model year  origin                           car name  \n",
      "0            70       1          chevrolet chevelle malibu  \n",
      "1            70       1                  buick skylark 320  \n",
      "2            70       1                 plymouth satellite  \n",
      "3            70       1                      amc rebel sst  \n",
      "4            70       1                        ford torino  \n",
      "5            70       1                   ford galaxie 500  \n",
      "6            70       1                   chevrolet impala  \n",
      "7            70       1                  plymouth fury iii  \n",
      "8            70       1                   pontiac catalina  \n",
      "9            70       1                 amc ambassador dpl  \n",
      "10           70       1                dodge challenger se  \n",
      "11           70       1                 plymouth 'cuda 340  \n",
      "12           70       1              chevrolet monte carlo  \n",
      "13           70       1            buick estate wagon (sw)  \n",
      "14           70       3              toyota corona mark ii  \n",
      "15           70       1                    plymouth duster  \n",
      "16           70       1                         amc hornet  \n",
      "17           70       1                      ford maverick  \n",
      "18           70       3                       datsun pl510  \n",
      "19           70       2       volkswagen 1131 deluxe sedan  \n",
      "20           70       2                        peugeot 504  \n",
      "21           70       2                        audi 100 ls  \n",
      "22           70       2                           saab 99e  \n",
      "23           70       2                           bmw 2002  \n",
      "24           70       1                        amc gremlin  \n",
      "25           70       1                          ford f250  \n",
      "26           70       1                          chevy c20  \n",
      "27           70       1                         dodge d200  \n",
      "28           70       1                           hi 1200d  \n",
      "29           71       3                       datsun pl510  \n",
      "..          ...     ...                                ...  \n",
      "362          82       1                 chevrolet cavalier  \n",
      "363          82       1           chevrolet cavalier wagon  \n",
      "364          82       1          chevrolet cavalier 2-door  \n",
      "365          82       1         pontiac j2000 se hatchback  \n",
      "366          82       1                     dodge aries se  \n",
      "367          82       1                    pontiac phoenix  \n",
      "368          82       1               ford fairmont futura  \n",
      "369          82       2                volkswagen rabbit l  \n",
      "370          82       3                 mazda glc custom l  \n",
      "371          82       3                   mazda glc custom  \n",
      "372          82       1             plymouth horizon miser  \n",
      "373          82       1                     mercury lynx l  \n",
      "374          82       3                   nissan stanza xe  \n",
      "375          82       3                       honda accord  \n",
      "376          82       3                     toyota corolla  \n",
      "377          82       3                        honda civic  \n",
      "378          82       3                 honda civic (auto)  \n",
      "379          82       3                      datsun 310 gx  \n",
      "380          82       1              buick century limited  \n",
      "381          82       1  oldsmobile cutlass ciera (diesel)  \n",
      "382          82       1         chrysler lebaron medallion  \n",
      "383          82       1                     ford granada l  \n",
      "384          82       3                   toyota celica gt  \n",
      "385          82       1                  dodge charger 2.2  \n",
      "386          82       1                   chevrolet camaro  \n",
      "387          82       1                    ford mustang gl  \n",
      "388          82       2                          vw pickup  \n",
      "389          82       1                      dodge rampage  \n",
      "390          82       1                        ford ranger  \n",
      "391          82       1                         chevy s-10  \n",
      "\n",
      "[392 rows x 9 columns]\n"
     ]
    }
   ],
   "source": [
    "import pandas as pd\n",
    "from pandas import Series, DataFrame\n",
    "import matplotlib.pyplot as plt\n",
    "import numpy as np\n",
    "\n",
    "autodata = pd.read_csv('auto-mpg.txt', delimiter = \";\")\n",
    "print autodata"
   ]
  },
  {
   "cell_type": "code",
   "execution_count": 57,
   "metadata": {},
   "outputs": [
    {
     "name": "stdout",
     "output_type": "stream",
     "text": [
      "AxesSubplot(0.125,0.125;0.775x0.755)\n"
     ]
    },
    {
     "data": {
      "image/png": "[encoded data removed]",
      "text/plain": [
       "<Figure size 432x288 with 1 Axes>"
      ]
     },
     "metadata": {},
     "output_type": "display_data"
    }
   ],
   "source": [
    "autodata[\"logweight\"] = np.log(autodata[\"weight\"])\n",
    "print autodata[\"logweight\"].hist()"
   ]
  },
  {
   "cell_type": "code",
   "execution_count": 58,
   "metadata": {},
   "outputs": [
    {
     "name": "stdout",
     "output_type": "stream",
     "text": [
      "AxesSubplot(0.125,0.125;0.775x0.755)\n"
     ]
    },
    {
     "data": {
      "image/png": "[encoded data removed]",
      "text/plain": [
       "<Figure size 432x288 with 1 Axes>"
      ]
     },
     "metadata": {},
     "output_type": "display_data"
    }
   ],
   "source": [
    "autodata[\"loghorsepower\"] = np.log(autodata[\"horsepower\"])\n",
    "print autodata[\"loghorsepower\"].hist()"
   ]
  },
  {
   "cell_type": "code",
   "execution_count": 59,
   "metadata": {},
   "outputs": [
    {
     "name": "stdout",
     "output_type": "stream",
     "text": [
      "AxesSubplot(0.125,0.125;0.775x0.755)\n"
     ]
    },
    {
     "data": {
      "image/png": "[encoded data removed]",
      "text/plain": [
       "<Figure size 432x288 with 1 Axes>"
      ]
     },
     "metadata": {},
     "output_type": "display_data"
    }
   ],
   "source": [
    "autodata[\"logmpg\"] = np.log(autodata[\"mpg\"])\n",
    "print autodata[\"logmpg\"].hist()"
   ]
  },
  {
   "cell_type": "code",
   "execution_count": 60,
   "metadata": {},
   "outputs": [
    {
     "name": "stdout",
     "output_type": "stream",
     "text": [
      "AxesSubplot(0.125,0.125;0.775x0.755)\n"
     ]
    },
    {
     "data": {
      "image/png": "[encoded data removed]",
      "text/plain": [
       "<Figure size 432x288 with 1 Axes>"
      ]
     },
     "metadata": {},
     "output_type": "display_data"
    }
   ],
   "source": [
    "autodata[\"logdisplacement\"] = np.log(autodata[\"displacement\"])\n",
    "print autodata[\"logdisplacement\"].hist()"
   ]
  },
  {
   "cell_type": "code",
   "execution_count": 61,
   "metadata": {},
   "outputs": [
    {
     "name": "stdout",
     "output_type": "stream",
     "text": [
      "<class 'pandas.core.frame.DataFrame'>\n",
      "RangeIndex: 392 entries, 0 to 391\n",
      "Data columns (total 8 columns):\n",
      "cylinders          392 non-null int64\n",
      "acceleration       392 non-null float64\n",
      "model year         392 non-null int64\n",
      "origin             392 non-null int64\n",
      "logweight          392 non-null float64\n",
      "loghorsepower      392 non-null float64\n",
      "logmpg             392 non-null float64\n",
      "logdisplacement    392 non-null float64\n",
      "dtypes: float64(5), int64(3)\n",
      "memory usage: 24.6 KB\n",
      "None\n"
     ]
    }
   ],
   "source": [
    "autodata.drop([\"mpg\", \"weight\", \"displacement\", \"horsepower\", \"car name\"], axis = 1, inplace = True)\n",
    "print autodata.info()"
   ]
  },
  {
   "cell_type": "code",
   "execution_count": 64,
   "metadata": {},
   "outputs": [
    {
     "name": "stdout",
     "output_type": "stream",
     "text": [
      "<class 'pandas.core.frame.DataFrame'>\n",
      "RangeIndex: 392 entries, 0 to 391\n",
      "Data columns (total 10 columns):\n",
      "cylinders          392 non-null int64\n",
      "acceleration       392 non-null float64\n",
      "model year         392 non-null int64\n",
      "logweight          392 non-null float64\n",
      "loghorsepower      392 non-null float64\n",
      "logmpg             392 non-null float64\n",
      "logdisplacement    392 non-null float64\n",
      "origin_1           392 non-null uint8\n",
      "origin_2           392 non-null uint8\n",
      "origin_3           392 non-null uint8\n",
      "dtypes: float64(5), int64(2), uint8(3)\n",
      "memory usage: 22.7 KB\n",
      "None\n"
     ]
    }
   ],
   "source": [
    "dummies = pd.get_dummies(autodata[\"origin\"], prefix= \"origin\")\n",
    "autodata.drop(\"origin\", axis=1, inplace = True)\n",
    "withDummies = pd.concat([autodata,dummies], axis =1)\n",
    "print withDummies.info()"
   ]
  },
  {
   "cell_type": "code",
   "execution_count": 66,
   "metadata": {},
   "outputs": [],
   "source": [
    "from sklearn.model_selection import train_test_split\n",
    "xprep = withDummies.drop('logmpg',1)\n",
    "x_train, x_cv, y_train, y_cv = train_test_split(xprep,withDummies.logmpg, test_size =0.3)\n"
   ]
  },
  {
   "cell_type": "code",
   "execution_count": 67,
   "metadata": {},
   "outputs": [
    {
     "name": "stdout",
     "output_type": "stream",
     "text": [
      "AxesSubplot(0.125,0.125;0.775x0.755)\n"
     ]
    },
    {
     "data": {
      "image/png": "[encoded data removed]",
      "text/plain": [
       "<Figure size 432x288 with 1 Axes>"
      ]
     },
     "metadata": {},
     "output_type": "display_data"
    }
   ],
   "source": [
    "from sklearn.linear_model import LinearRegression\n",
    "lreg = LinearRegression()\n",
    "lreg.fit(x_train,y_train)\n",
    "predictors = x_train.columns\n",
    "coef = Series(data=lreg.coef_, index=predictors).sort_values()\n",
    "print coef.plot(kind='bar', title='Regression with all predictors')"
   ]
  },
  {
   "cell_type": "code",
   "execution_count": 68,
   "metadata": {},
   "outputs": [
    {
     "name": "stdout",
     "output_type": "stream",
     "text": [
      "Training RMSEA: 0.11487171766896703\n",
      "Testing RMSEA: 0.10704175736291739\n",
      "difference = -0.007829960306049641\n"
     ]
    },
    {
     "data": {
      "image/png": "[encoded data removed]",
      "text/plain": [
       "<Figure size 432x288 with 1 Axes>"
      ]
     },
     "metadata": {},
     "output_type": "display_data"
    }
   ],
   "source": [
    "predictions = lreg.predict(x_train)\n",
    "mse = np.mean((predictions - y_train)**2)\n",
    "tr=np.sqrt(mse)\n",
    "print \"Training RMSEA: \"+str(tr)\n",
    "\n",
    "predictions = lreg.predict(x_cv)\n",
    "mse = np.mean((predictions - y_cv)**2)\n",
    "ts=np.sqrt(mse)\n",
    "print \"Testing RMSEA: \"+str(ts)\n",
    "print \"difference = \"+str(ts-tr)\n",
    "\n",
    "plt.scatter(y_cv, predictions)\n",
    "plt.xlabel(\"True Values\")\n",
    "plt.ylabel(\"Predictions\")\n",
    "plt.show()\n"
   ]
  },
  {
   "cell_type": "code",
   "execution_count": 72,
   "metadata": {},
   "outputs": [
    {
     "data": {
      "text/plain": [
       "ElasticNetCV(alphas=None, copy_X=True, cv=None, eps=0.001, fit_intercept=True,\n",
       "       l1_ratio=0.5, max_iter=1000, n_alphas=100, n_jobs=1,\n",
       "       normalize=False, positive=False, precompute='auto',\n",
       "       random_state=None, selection='cyclic', tol=0.0001, verbose=0)"
      ]
     },
     "execution_count": 72,
     "metadata": {},
     "output_type": "execute_result"
    }
   ],
   "source": [
    "from sklearn.linear_model import ElasticNetCV\n",
    "encv = ElasticNetCV()\n",
    "encv.fit(x_train, y_train)"
   ]
  },
  {
   "cell_type": "code",
   "execution_count": 73,
   "metadata": {},
   "outputs": [
    {
     "name": "stdout",
     "output_type": "stream",
     "text": [
      "AxesSubplot(0.125,0.125;0.775x0.755)\n"
     ]
    },
    {
     "data": {
      "image/png": "[encoded data removed]",
      "text/plain": [
       "<Figure size 432x288 with 1 Axes>"
      ]
     },
     "metadata": {},
     "output_type": "display_data"
    }
   ],
   "source": [
    "predictors = x_train.columns\n",
    "coef = Series(encv.coef_,predictors).sort_values()\n",
    "coef=coef[coef!=0]\n",
    "print coef.plot(kind='bar', title='Alpha='+str(encv.alpha_)+', L1 Ratio='+str(encv.l1_ratio_))"
   ]
  },
  {
   "cell_type": "code",
   "execution_count": 74,
   "metadata": {},
   "outputs": [
    {
     "name": "stdout",
     "output_type": "stream",
     "text": [
      "Training RMSEA: 0.11519101642547247\n",
      "Testing RMSEA: 0.10774721140475713\n",
      "difference = -0.007443805020715344\n"
     ]
    },
    {
     "data": {
      "image/png": "[encoded data removed]",
      "text/plain": [
       "<Figure size 432x288 with 1 Axes>"
      ]
     },
     "metadata": {},
     "output_type": "display_data"
    }
   ],
   "source": [
    "predictions = encv.predict(x_train)\n",
    "mse = np.mean((predictions - y_train)**2)\n",
    "tr=np.sqrt(mse)\n",
    "print \"Training RMSEA: \"+str(tr)\n",
    "\n",
    "#and here's how accurate on the testing data\n",
    "predictions = encv.predict(x_cv)\n",
    "mse = np.mean((predictions - y_cv)**2)\n",
    "ts=np.sqrt(mse)\n",
    "print \"Testing RMSEA: \"+str(ts)\n",
    "print \"difference = \"+str(ts-tr)\n",
    "\n",
    "plt.scatter(y_cv, predictions)\n",
    "plt.xlabel(\"True Values\")\n",
    "plt.ylabel(\"Predictions\")\n",
    "plt.show()"
   ]
  },
  {
   "cell_type": "code",
   "execution_count": 75,
   "metadata": {},
   "outputs": [],
   "source": []
  },
  {
   "cell_type": "code",
   "execution_count": null,
   "metadata": {},
   "outputs": [],
   "source": []
  }
 ],
 "metadata": {
  "kernelspec": {
   "display_name": "Python 3",
   "language": "python",
   "name": "python3"
  },
  "language_info": {
   "codemirror_mode": {
    "name": "ipython",
    "version": 3
   },
   "file_extension": ".py",
   "mimetype": "text/x-python",
   "name": "python",
   "nbconvert_exporter": "python",
   "pygments_lexer": "ipython3",
   "version": "3.7.1"
  }
 },
 "nbformat": 4,
 "nbformat_minor": 2
}
